{
 "cells": [
  {
   "cell_type": "markdown",
   "id": "3de894b4-a25f-4b86-b28b-951e43d92a8a",
   "metadata": {},
   "source": [
    "# Adil Rahim"
   ]
  },
  {
   "cell_type": "markdown",
   "id": "5c09c202-9792-43e6-a73a-1e22edea014c",
   "metadata": {},
   "source": [
    "# Reg No = 0507"
   ]
  },
  {
   "cell_type": "markdown",
   "id": "9067cea5-e293-4b28-acb1-e4e808f26c73",
   "metadata": {},
   "source": [
    "# Lab report tasks"
   ]
  },
  {
   "cell_type": "markdown",
   "id": "4d10a0ff-3f85-49f9-8525-2ac78fa60abf",
   "metadata": {},
   "source": [
    "# Tuple and Dictionary"
   ]
  },
  {
   "cell_type": "code",
   "execution_count": 24,
   "id": "58e81eea-4e7a-4863-a4d4-3032c5e32bc6",
   "metadata": {},
   "outputs": [],
   "source": [
    "Info=[\"Adil Rahim\",507,3.5,[3.4,3.6]]"
   ]
  },
  {
   "cell_type": "code",
   "execution_count": 25,
   "id": "194edb7a-d4de-451d-a601-790192e57d2f",
   "metadata": {},
   "outputs": [
    {
     "name": "stdout",
     "output_type": "stream",
     "text": [
      "['Adil Rahim', 507, 3.5, [3.4, 3.6]]\n",
      "507\n",
      "3.5\n",
      "[3.4, 3.6]\n",
      "3.4\n",
      "3.6\n"
     ]
    }
   ],
   "source": [
    "print(Info)\n",
    "print(Info[1])\n",
    "print(Info[2])\n",
    "print(Info[3])\n",
    "print(Info[3][0])\n",
    "print(Info[3][1])"
   ]
  },
  {
   "cell_type": "code",
   "execution_count": 26,
   "id": "4c765a16-0c8c-4824-956a-1719e367f0ae",
   "metadata": {},
   "outputs": [],
   "source": [
    "x = [\"a\", [\"bb\", [\"ccc\", \"ddd\"], \"ee\", \"ff\"], \"g\", [\"hh\", \"ii\"], \"j\"]"
   ]
  },
  {
   "cell_type": "code",
   "execution_count": 27,
   "id": "6beb7216-ae34-4587-a846-f1f1f242416c",
   "metadata": {},
   "outputs": [
    {
     "name": "stdout",
     "output_type": "stream",
     "text": [
      "a\n",
      "['bb', ['ccc', 'ddd'], 'ee', 'ff']\n",
      "bb\n",
      "['ccc', 'ddd']\n",
      "ee\n",
      "ff\n",
      "g\n",
      "['hh', 'ii']\n",
      "hh\n",
      "ii\n",
      "j\n"
     ]
    }
   ],
   "source": [
    "# I access different value by its index\n",
    "print(x[0])\n",
    "print(x[1])\n",
    "print(x[1][0])\n",
    "print(x[1][1])\n",
    "print(x[1][2])\n",
    "print(x[1][3])\n",
    "print(x[2])\n",
    "print(x[3])\n",
    "print(x[3][0])\n",
    "print(x[3][1])\n",
    "print(x[4])"
   ]
  },
  {
   "cell_type": "code",
   "execution_count": null,
   "id": "af49dbae-24cd-4695-a01a-78605326bb15",
   "metadata": {},
   "outputs": [],
   "source": []
  }
 ],
 "metadata": {
  "kernelspec": {
   "display_name": "Python 3 (ipykernel)",
   "language": "python",
   "name": "python3"
  },
  "language_info": {
   "codemirror_mode": {
    "name": "ipython",
    "version": 3
   },
   "file_extension": ".py",
   "mimetype": "text/x-python",
   "name": "python",
   "nbconvert_exporter": "python",
   "pygments_lexer": "ipython3",
   "version": "3.12.4"
  }
 },
 "nbformat": 4,
 "nbformat_minor": 5
}
